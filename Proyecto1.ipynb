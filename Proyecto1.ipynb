{
 "cells": [
  {
   "cell_type": "markdown",
   "metadata": {},
   "source": [
    "Mini proyecto de regresion lineal | Examen Medio Curso | Redes Neuronales Artificiales\n",
    "\n",
    "Autor: Alex Garcia Serna\n",
    "Matricula:  1725239\n",
    "Correo: alex.garciase@uanl.edu.mx\n",
    "Github: github.com/AlexGarSer\n",
    "\n",
    "Objetivo:\n",
    "El mini proyecto consiste en desarrollar un algoritmo que recibe como entrada valores dados por el usuario de las variables de control seleccionadas como relevantes y devuelve al usuario el tiempo de producción esperado si se ajustan los controles con dichos valores dados.\n",
    "\n",
    "La informacion utilizada para este proyecto al ser de caracter sensible se eliminaron los nombres de las columnas por razones de confidencialidad y se sustituyeron por \"X\" + \"# de la columna\"."
   ]
  },
  {
   "cell_type": "code",
   "execution_count": 1,
   "metadata": {},
   "outputs": [],
   "source": [
    "# El dataset utilizado en este proyecto se encuentra nombrado como ProblemaRegresion.csv\n",
    "# Este dataset fue otorgado por el instructor y para uso exclusivo del examen.\n",
    "\n",
    "#Librerias a utlizar\n",
    "from sklearn.neural_network import MLPClassifier\n",
    "from os import urandom\n",
    "import pandas as pd\n",
    "from sklearn.preprocessing import StandardScaler\n",
    "from sklearn import preprocessing\n",
    "from sklearn.model_selection import train_test_split\n",
    "from sklearn import linear_model\n",
    "from sklearn.metrics import ConfusionMatrixDisplay\n",
    "from sklearn.metrics import confusion_matrix\n",
    "import matplotlib.pyplot as plt\n",
    "import numpy as np\n",
    "from sklearn.metrics import mean_squared_error\n",
    "from sklearn.metrics import r2_score\n",
    "\n",
    "\n",
    "\n",
    "#Primero se leen los datos del dataset y los pasamos a un dataframe para poder manipularlos.\n",
    "datos = pd.read_csv(\"./Datos/ProblemaRegresion.csv\")"
   ]
  },
  {
   "cell_type": "markdown",
   "metadata": {},
   "source": [
    "Al darnos cuenta que faltaba informacion en el dataset y marcaba errrores al querer utilizarla decidimos utilizar los datos de media que teniamos actualmente para rellenar los espacios vacios."
   ]
  },
  {
   "cell_type": "code",
   "execution_count": 2,
   "metadata": {},
   "outputs": [
    {
     "name": "stdout",
     "output_type": "stream",
     "text": [
      "y       36.519935\n",
      "x1      28.651091\n",
      "x2      53.725729\n",
      "x3      17.623180\n",
      "x4      40.693215\n",
      "x5      16.716437\n",
      "x6      23.954144\n",
      "x7       1.453853\n",
      "x8     184.806763\n",
      "x9     146.621576\n",
      "x10    125.241155\n",
      "x11    120.654717\n",
      "x12     59.565670\n",
      "x13    477.957222\n",
      "x14     40.567198\n",
      "x15     56.332647\n",
      "x16      1.797769\n",
      "x17     93.638739\n",
      "x18      3.841009\n",
      "x19     84.598280\n",
      "x20     18.863547\n",
      "x21      5.701706\n",
      "x22     94.396895\n",
      "x23      4.080073\n",
      "x24     85.413006\n",
      "x25      7.146739\n",
      "x26     23.322593\n",
      "x27     93.797414\n",
      "x28      3.703272\n",
      "x29     84.278472\n",
      "x30     92.663914\n",
      "x31      3.439937\n",
      "x32     83.958096\n",
      "x33     13.799972\n",
      "x34      4.036723\n",
      "dtype: float64\n",
      "\n",
      "\n",
      "\n",
      "\n"
     ]
    }
   ],
   "source": [
    "#Se imprime la media de todas las columnas del dataframe\n",
    "print(datos.mean())\n",
    "print('\\n'*3)"
   ]
  },
  {
   "cell_type": "markdown",
   "metadata": {},
   "source": []
  },
  {
   "cell_type": "markdown",
   "metadata": {},
   "source": [
    "Una vez completados todos los datos, procedo a seccionar las salidas y las caracteristicas del dataset\n",
    "donde Y representa las salidas esperadas y X son las caracteristicas"
   ]
  },
  {
   "cell_type": "code",
   "execution_count": 3,
   "metadata": {},
   "outputs": [
    {
     "name": "stdout",
     "output_type": "stream",
     "text": [
      "           y\n",
      "0  31.303077\n",
      "1  32.520000\n",
      "2  31.936000\n",
      "3  31.822500\n",
      "4  31.383636\n",
      "\n",
      "\n",
      "\n",
      "\n",
      "          x1         x2         x3         x4         x5         x6        x7  \\\n",
      "0  23.403665  61.001078  15.595257  37.547146  16.806608  24.772692  1.497338   \n",
      "1  20.864591  65.232089  13.903320  39.407843  16.170943  23.027157  1.425443   \n",
      "2  21.788283  63.692885  14.518832  40.569120  15.907050  23.273360  1.470490   \n",
      "3  24.315423  59.481762  16.202815  39.062450  16.688242  23.917008  1.448125   \n",
      "4  24.649930  58.924352  16.425718  39.968936  16.013227  23.566355  1.483309   \n",
      "\n",
      "           x8          x9         x10  ...       x25        x26   x27  x28  \\\n",
      "0  171.359231  144.714615  114.259231  ...  7.237142  23.714156  94.6  3.5   \n",
      "1  176.830000  143.911429  119.740000  ...  5.811863  19.832235  94.6  3.7   \n",
      "2  176.234000  146.550000  118.956000  ...  6.908267  16.987542  94.4  3.5   \n",
      "3  174.932500  147.945833  116.710000  ...  0.931507   6.575342  93.8  3.4   \n",
      "4  176.130000  147.524545  118.110909  ...  4.306220  15.037594  93.8  3.8   \n",
      "\n",
      "    x29      x30    x31      x32        x33       x34  \n",
      "0  84.6  92.2195  3.194  84.7070  10.661765  2.941176  \n",
      "1  84.4  92.9545  3.970  84.7095   9.604520  2.636535  \n",
      "2  84.9  91.9665  3.345  85.0610  11.270492  3.073770  \n",
      "3  84.9  92.3300  3.435  84.5680  11.550152  3.343465  \n",
      "4  85.0  93.6735  3.615  84.6350  10.526316  3.110048  \n",
      "\n",
      "[5 rows x 34 columns]\n"
     ]
    }
   ],
   "source": [
    "Y=datos[['y']] # se filtran la columna de salida esperada\n",
    "print(Y[:5]) # Se imprime para corroborar que sean los datos esperados\n",
    "\n",
    "print('\\n'*3)\n",
    "\n",
    "# Se filtran las columans que conformaran las caracteristicas\n",
    "X = datos[['x1','x2','x3','x4','x5','x6','x7','x8','x9','x10','x11','x12','x13','x14','x15','x16','x17','x18','x19','x20','x21','x22','x23','x24','x25','x26','x27','x28','x29','x30','x31','x32','x33','x34']] #Caracteristicas del conjunto\n",
    "print(X[:5]) # Se imprime para corroborar que sean los datos esperados\n"
   ]
  },
  {
   "cell_type": "code",
   "execution_count": 4,
   "metadata": {},
   "outputs": [
    {
     "name": "stdout",
     "output_type": "stream",
     "text": [
      "             y         x1         x2         x3         x4         x5  \\\n",
      "0    31.303077  23.403665  61.001078  15.595257  37.547146  16.806608   \n",
      "1    32.520000  20.864591  65.232089  13.903320  39.407843  16.170943   \n",
      "2    31.936000  21.788283  63.692885  14.518832  40.569120  15.907050   \n",
      "3    31.822500  24.315423  59.481762  16.202815  39.062450  16.688242   \n",
      "4    31.383636  24.649930  58.924352  16.425718  39.968936  16.013227   \n",
      "..         ...        ...        ...        ...        ...        ...   \n",
      "761  35.261250  26.110933  56.618658  17.270409  40.162700  17.288412   \n",
      "762  34.576000  24.906090  58.625029  16.468882  42.486990  16.380330   \n",
      "763  36.841000  26.603597  55.798247  17.598156  42.065450  16.348790   \n",
      "764  36.717500  16.846006  72.047118  11.106877  42.785300  16.426838   \n",
      "765  36.519935  28.651091  53.725729  17.623180  40.693215  16.716437   \n",
      "\n",
      "            x6        x7          x8          x9  ...       x25        x26  \\\n",
      "0    24.772692  1.497338  171.359231  144.714615  ...  7.237142  23.714156   \n",
      "1    23.027157  1.425443  176.830000  143.911429  ...  5.811863  19.832235   \n",
      "2    23.273360  1.470490  176.234000  146.550000  ...  6.908267  16.987542   \n",
      "3    23.917008  1.448125  174.932500  147.945833  ...  0.931507   6.575342   \n",
      "4    23.566355  1.483309  176.130000  147.524545  ...  4.306220  15.037594   \n",
      "..         ...       ...         ...         ...  ...       ...        ...   \n",
      "761  23.996475  1.418138  197.782500  149.975000  ...  1.600366  11.705533   \n",
      "762  22.782080  1.403720  198.194000  143.477000  ...  6.078905  13.768116   \n",
      "763  23.590630  1.454620  195.937000  146.613000  ...  5.933852  14.153696   \n",
      "764  21.988762  1.349713  198.701250  151.196250  ...  1.066408   7.367911   \n",
      "765  23.954144  1.453853  184.806763  146.621576  ...  7.093873  23.161760   \n",
      "\n",
      "           x27       x28        x29        x30       x31        x32  \\\n",
      "0    94.600000  3.500000  84.600000  92.219500  3.194000  84.707000   \n",
      "1    94.600000  3.700000  84.400000  92.954500  3.970000  84.709500   \n",
      "2    94.400000  3.500000  84.900000  91.966500  3.345000  85.061000   \n",
      "3    93.800000  3.400000  84.900000  92.330000  3.435000  84.568000   \n",
      "4    93.800000  3.800000  85.000000  93.673500  3.615000  84.635000   \n",
      "..         ...       ...        ...        ...       ...        ...   \n",
      "761  93.400000  3.400000  85.700000  92.413000  3.320000  84.511000   \n",
      "762  92.700000  3.200000  85.700000  92.255000  3.700000  84.794000   \n",
      "763  92.700000  3.500000  85.600000  92.067000  3.660000  83.243000   \n",
      "764  94.000000  3.500000  85.700000  92.551000  3.252000  83.812000   \n",
      "765  93.819203  3.706159  84.309662  92.557005  3.442347  83.914348   \n",
      "\n",
      "           x33       x34  \n",
      "0    10.661765  2.941176  \n",
      "1     9.604520  2.636535  \n",
      "2    11.270492  3.073770  \n",
      "3    11.550152  3.343465  \n",
      "4    10.526316  3.110048  \n",
      "..         ...       ...  \n",
      "761  12.962963  3.333333  \n",
      "762  12.111293  1.963993  \n",
      "763  15.657620  5.636743  \n",
      "764   7.313830  1.063830  \n",
      "765  13.842935  4.027398  \n",
      "\n",
      "[766 rows x 35 columns]\n"
     ]
    }
   ],
   "source": [
    "#Se imprime el dataframe\n",
    "print(datos)"
   ]
  },
  {
   "cell_type": "code",
   "execution_count": 5,
   "metadata": {},
   "outputs": [
    {
     "name": "stdout",
     "output_type": "stream",
     "text": [
      "(766, 35)\n"
     ]
    }
   ],
   "source": [
    "#Se imprime la cantidad de filas y columnas que tiene el datasframe\n",
    "print(datos.shape)"
   ]
  },
  {
   "cell_type": "markdown",
   "metadata": {},
   "source": [
    "Para empezar a trabajar con los datos primero los pasaremos por una transformacion ya que algunos de los datos no son de las mismas magnitudes los pasaremos por una transformacion de centrado, escalado y normalizado, para ellos utilizaremos la libreria Sklearn con su funcion preprocessing.StandardScaler"
   ]
  },
  {
   "cell_type": "code",
   "execution_count": 6,
   "metadata": {},
   "outputs": [
    {
     "name": "stdout",
     "output_type": "stream",
     "text": [
      "StandardScaler()\n"
     ]
    }
   ],
   "source": [
    "scaler = preprocessing.StandardScaler()\n",
    "datos=scaler.fit_transform(X)\n",
    "print(scaler)"
   ]
  },
  {
   "cell_type": "markdown",
   "metadata": {},
   "source": [
    "Una vez que ya tenemos los datos es hora de seccionar cuales de ellos seran utilizados para el entrenamiento de la red neuronal y cuales seran la comprobacion de que la red neuronal predice de manera correcta.\n",
    "\n",
    "En este caso utilizaremos una proporcion 70%:30% para otorgar mas ejemplos de entrenamiento a la red neuronal que la que va a predecir.\n",
    "\n",
    "Al ser 766 datos utilizaremos 536 que es el equivalente al 70% de los datos para el conjunto de entrenamiento y solo 230 para el conjunto de pruebas para corroborar el funcionamiento de la red neuronal."
   ]
  },
  {
   "cell_type": "code",
   "execution_count": 7,
   "metadata": {},
   "outputs": [
    {
     "name": "stdout",
     "output_type": "stream",
     "text": [
      "(536, 34)\n",
      "(230, 34)\n"
     ]
    }
   ],
   "source": [
    "#Division en conjunto de entrenamiento y conjunto de prueba\n",
    "x_train, x_test, y_train, y_test = train_test_split(X,Y,test_size=0.3)\n",
    "\n",
    "# Se imprime la cantidad de pruebas por cada set\n",
    "print(x_train.shape) #Se imprime la cantidade columnas y filas a utilizar\n",
    "print(x_test.shape) #Se imprime la cantidade columnas y filas a utilizar\n",
    "\n",
    "#Estandar de conjuntos de entrenamiento y prueba\n",
    "#x_train = StandardScaler().fit_transform(x_train)\n",
    "#x_test = StandardScaler().fit_transform(x_test)\n",
    "\n",
    "#print(\"Estandarizando...\\n\"*3)\n",
    "#print(\"Estandarizado Completado!\")"
   ]
  },
  {
   "cell_type": "code",
   "execution_count": 8,
   "metadata": {},
   "outputs": [
    {
     "name": "stdout",
     "output_type": "stream",
     "text": [
      "Entrenamiento X\n",
      "            x1         x2         x3         x4         x5         x6  \\\n",
      "348  27.318950  56.134423  16.546627  40.066750  17.231910  23.232330   \n",
      "377  38.158954  38.728812  23.112234  39.793390  17.181960  23.844520   \n",
      "736  22.194462  63.140578  14.664960  40.976750  17.323850  23.666763   \n",
      "111  19.716795  58.761086  21.522119  35.139364  18.433764  27.359927   \n",
      "412  24.635511  59.187682  16.176807  43.582708  16.028725  22.266283   \n",
      "\n",
      "           x7          x8          x9         x10  ...        x25        x26  \\\n",
      "348  1.355670  186.677000  151.290000  129.897000  ...   4.508956  21.494750   \n",
      "377  1.408040  191.268000  149.522000  131.293000  ...   6.514503  27.532097   \n",
      "736  1.375975  198.248750  144.480000  141.511250  ...   7.548807  25.292842   \n",
      "111  1.507845  179.887273  150.482727  119.419091  ...  11.776650  30.659898   \n",
      "412  1.390725  180.958333  144.489167  122.431667  ...   5.059848  17.192601   \n",
      "\n",
      "      x27  x28   x29     x30   x31     x32        x33       x34  \n",
      "348  93.9  3.9  83.8  90.801  3.58  82.723  17.777778  6.666667  \n",
      "377  94.2  3.8  84.3  94.006  3.59  84.789  14.655172  5.172414  \n",
      "736  93.1  3.5  85.4  91.579  3.43  83.374  10.732984  3.010471  \n",
      "111  94.9  3.7  85.0  93.698  3.74  84.277  18.203310  6.855792  \n",
      "412  92.9  3.8  83.2  93.072  3.71  82.933  14.285714  6.451613  \n",
      "\n",
      "[5 rows x 34 columns]\n"
     ]
    }
   ],
   "source": [
    "\n",
    "print(\"Entrenamiento X\")\n",
    "print(x_train[:5])"
   ]
  },
  {
   "cell_type": "markdown",
   "metadata": {},
   "source": [
    "Continuaremos aplicando ahora si la regresion lineal utilizando los datos de entrenamiento"
   ]
  },
  {
   "cell_type": "code",
   "execution_count": 9,
   "metadata": {},
   "outputs": [],
   "source": [
    "#x_train = x_train.reshape([x_train.shape[0],1])\n",
    "#x_test = x_test.reshape([x_test.shape[0],1])"
   ]
  },
  {
   "cell_type": "code",
   "execution_count": 10,
   "metadata": {},
   "outputs": [],
   "source": [
    "regresion = linear_model.LinearRegression()\n",
    "regresion.fit(x_train,y_train)\n",
    "y_prediccion = regresion.predict(x_test)"
   ]
  },
  {
   "cell_type": "code",
   "execution_count": 13,
   "metadata": {},
   "outputs": [
    {
     "name": "stdout",
     "output_type": "stream",
     "text": [
      "Error:  2487.140076613345\n",
      "El valor de R cuadrada:  0.17954123163255253\n"
     ]
    }
   ],
   "source": [
    "print(\"Error: \", mean_squared_error(y_test,y_prediccion))\n",
    "print(\"El valor de R cuadrada: \",r2_score(y_test,y_prediccion))"
   ]
  },
  {
   "cell_type": "code",
   "execution_count": 14,
   "metadata": {},
   "outputs": [
    {
     "ename": "ValueError",
     "evalue": "x and y must be the same size",
     "output_type": "error",
     "traceback": [
      "\u001b[1;31m---------------------------------------------------------------------------\u001b[0m",
      "\u001b[1;31mValueError\u001b[0m                                Traceback (most recent call last)",
      "\u001b[1;32mf:\\Ing. Alex Garcia S\\Universidad\\FIME\\8tvo_Semestre\\RedesNeuronales\\MedioCurso\\Proyecto1\\Proyecto1.ipynb Celda 19\u001b[0m in \u001b[0;36m<cell line: 1>\u001b[1;34m()\u001b[0m\n\u001b[1;32m----> <a href='vscode-notebook-cell:/f%3A/Ing.%20Alex%20Garcia%20S/Universidad/FIME/8tvo_Semestre/RedesNeuronales/MedioCurso/Proyecto1/Proyecto1.ipynb#X24sZmlsZQ%3D%3D?line=0'>1</a>\u001b[0m plt\u001b[39m.\u001b[39;49mscatter(x_train,y_train,color\u001b[39m=\u001b[39;49m\u001b[39m'\u001b[39;49m\u001b[39mgreen\u001b[39;49m\u001b[39m'\u001b[39;49m)\n\u001b[0;32m      <a href='vscode-notebook-cell:/f%3A/Ing.%20Alex%20Garcia%20S/Universidad/FIME/8tvo_Semestre/RedesNeuronales/MedioCurso/Proyecto1/Proyecto1.ipynb#X24sZmlsZQ%3D%3D?line=1'>2</a>\u001b[0m plt\u001b[39m.\u001b[39mscatter(x_test,y_prediccion,color\u001b[39m=\u001b[39m\u001b[39m'\u001b[39m\u001b[39mblue\u001b[39m\u001b[39m'\u001b[39m)\n",
      "File \u001b[1;32mc:\\Users\\AlexG\\anaconda3\\lib\\site-packages\\matplotlib\\pyplot.py:2807\u001b[0m, in \u001b[0;36mscatter\u001b[1;34m(x, y, s, c, marker, cmap, norm, vmin, vmax, alpha, linewidths, edgecolors, plotnonfinite, data, **kwargs)\u001b[0m\n\u001b[0;32m   2802\u001b[0m \u001b[39m@_copy_docstring_and_deprecators\u001b[39m(Axes\u001b[39m.\u001b[39mscatter)\n\u001b[0;32m   2803\u001b[0m \u001b[39mdef\u001b[39;00m \u001b[39mscatter\u001b[39m(\n\u001b[0;32m   2804\u001b[0m         x, y, s\u001b[39m=\u001b[39m\u001b[39mNone\u001b[39;00m, c\u001b[39m=\u001b[39m\u001b[39mNone\u001b[39;00m, marker\u001b[39m=\u001b[39m\u001b[39mNone\u001b[39;00m, cmap\u001b[39m=\u001b[39m\u001b[39mNone\u001b[39;00m, norm\u001b[39m=\u001b[39m\u001b[39mNone\u001b[39;00m,\n\u001b[0;32m   2805\u001b[0m         vmin\u001b[39m=\u001b[39m\u001b[39mNone\u001b[39;00m, vmax\u001b[39m=\u001b[39m\u001b[39mNone\u001b[39;00m, alpha\u001b[39m=\u001b[39m\u001b[39mNone\u001b[39;00m, linewidths\u001b[39m=\u001b[39m\u001b[39mNone\u001b[39;00m, \u001b[39m*\u001b[39m,\n\u001b[0;32m   2806\u001b[0m         edgecolors\u001b[39m=\u001b[39m\u001b[39mNone\u001b[39;00m, plotnonfinite\u001b[39m=\u001b[39m\u001b[39mFalse\u001b[39;00m, data\u001b[39m=\u001b[39m\u001b[39mNone\u001b[39;00m, \u001b[39m*\u001b[39m\u001b[39m*\u001b[39mkwargs):\n\u001b[1;32m-> 2807\u001b[0m     __ret \u001b[39m=\u001b[39m gca()\u001b[39m.\u001b[39mscatter(\n\u001b[0;32m   2808\u001b[0m         x, y, s\u001b[39m=\u001b[39ms, c\u001b[39m=\u001b[39mc, marker\u001b[39m=\u001b[39mmarker, cmap\u001b[39m=\u001b[39mcmap, norm\u001b[39m=\u001b[39mnorm,\n\u001b[0;32m   2809\u001b[0m         vmin\u001b[39m=\u001b[39mvmin, vmax\u001b[39m=\u001b[39mvmax, alpha\u001b[39m=\u001b[39malpha, linewidths\u001b[39m=\u001b[39mlinewidths,\n\u001b[0;32m   2810\u001b[0m         edgecolors\u001b[39m=\u001b[39medgecolors, plotnonfinite\u001b[39m=\u001b[39mplotnonfinite,\n\u001b[0;32m   2811\u001b[0m         \u001b[39m*\u001b[39m\u001b[39m*\u001b[39m({\u001b[39m\"\u001b[39m\u001b[39mdata\u001b[39m\u001b[39m\"\u001b[39m: data} \u001b[39mif\u001b[39;00m data \u001b[39mis\u001b[39;00m \u001b[39mnot\u001b[39;00m \u001b[39mNone\u001b[39;00m \u001b[39melse\u001b[39;00m {}), \u001b[39m*\u001b[39m\u001b[39m*\u001b[39mkwargs)\n\u001b[0;32m   2812\u001b[0m     sci(__ret)\n\u001b[0;32m   2813\u001b[0m     \u001b[39mreturn\u001b[39;00m __ret\n",
      "File \u001b[1;32mc:\\Users\\AlexG\\anaconda3\\lib\\site-packages\\matplotlib\\__init__.py:1412\u001b[0m, in \u001b[0;36m_preprocess_data.<locals>.inner\u001b[1;34m(ax, data, *args, **kwargs)\u001b[0m\n\u001b[0;32m   1409\u001b[0m \u001b[39m@functools\u001b[39m\u001b[39m.\u001b[39mwraps(func)\n\u001b[0;32m   1410\u001b[0m \u001b[39mdef\u001b[39;00m \u001b[39minner\u001b[39m(ax, \u001b[39m*\u001b[39margs, data\u001b[39m=\u001b[39m\u001b[39mNone\u001b[39;00m, \u001b[39m*\u001b[39m\u001b[39m*\u001b[39mkwargs):\n\u001b[0;32m   1411\u001b[0m     \u001b[39mif\u001b[39;00m data \u001b[39mis\u001b[39;00m \u001b[39mNone\u001b[39;00m:\n\u001b[1;32m-> 1412\u001b[0m         \u001b[39mreturn\u001b[39;00m func(ax, \u001b[39m*\u001b[39m\u001b[39mmap\u001b[39m(sanitize_sequence, args), \u001b[39m*\u001b[39m\u001b[39m*\u001b[39mkwargs)\n\u001b[0;32m   1414\u001b[0m     bound \u001b[39m=\u001b[39m new_sig\u001b[39m.\u001b[39mbind(ax, \u001b[39m*\u001b[39margs, \u001b[39m*\u001b[39m\u001b[39m*\u001b[39mkwargs)\n\u001b[0;32m   1415\u001b[0m     auto_label \u001b[39m=\u001b[39m (bound\u001b[39m.\u001b[39marguments\u001b[39m.\u001b[39mget(label_namer)\n\u001b[0;32m   1416\u001b[0m                   \u001b[39mor\u001b[39;00m bound\u001b[39m.\u001b[39mkwargs\u001b[39m.\u001b[39mget(label_namer))\n",
      "File \u001b[1;32mc:\\Users\\AlexG\\anaconda3\\lib\\site-packages\\matplotlib\\axes\\_axes.py:4369\u001b[0m, in \u001b[0;36mAxes.scatter\u001b[1;34m(self, x, y, s, c, marker, cmap, norm, vmin, vmax, alpha, linewidths, edgecolors, plotnonfinite, **kwargs)\u001b[0m\n\u001b[0;32m   4367\u001b[0m y \u001b[39m=\u001b[39m np\u001b[39m.\u001b[39mma\u001b[39m.\u001b[39mravel(y)\n\u001b[0;32m   4368\u001b[0m \u001b[39mif\u001b[39;00m x\u001b[39m.\u001b[39msize \u001b[39m!=\u001b[39m y\u001b[39m.\u001b[39msize:\n\u001b[1;32m-> 4369\u001b[0m     \u001b[39mraise\u001b[39;00m \u001b[39mValueError\u001b[39;00m(\u001b[39m\"\u001b[39m\u001b[39mx and y must be the same size\u001b[39m\u001b[39m\"\u001b[39m)\n\u001b[0;32m   4371\u001b[0m \u001b[39mif\u001b[39;00m s \u001b[39mis\u001b[39;00m \u001b[39mNone\u001b[39;00m:\n\u001b[0;32m   4372\u001b[0m     s \u001b[39m=\u001b[39m (\u001b[39m20\u001b[39m \u001b[39mif\u001b[39;00m rcParams[\u001b[39m'\u001b[39m\u001b[39m_internal.classic_mode\u001b[39m\u001b[39m'\u001b[39m] \u001b[39melse\u001b[39;00m\n\u001b[0;32m   4373\u001b[0m          rcParams[\u001b[39m'\u001b[39m\u001b[39mlines.markersize\u001b[39m\u001b[39m'\u001b[39m] \u001b[39m*\u001b[39m\u001b[39m*\u001b[39m \u001b[39m2.0\u001b[39m)\n",
      "\u001b[1;31mValueError\u001b[0m: x and y must be the same size"
     ]
    },
    {
     "data": {
      "image/png": "[encoded data removed]",
      "text/plain": [
       "<Figure size 432x288 with 1 Axes>"
      ]
     },
     "metadata": {
      "needs_background": "light"
     },
     "output_type": "display_data"
    }
   ],
   "source": [
    "plt.scatter(x_train,y_train,color='green')\n",
    "plt.scatter(x_test,y_prediccion,color='blue')"
   ]
  },
  {
   "cell_type": "code",
   "execution_count": null,
   "metadata": {},
   "outputs": [],
   "source": [
    "#Entrenamiento del modeladoModelado\n",
    "#clf = MLPClassifier(hidden_layer_sizes=(10,10,10), random_state=10, max_iter=10000)\n",
    "#y_train = np.ravel(y_train)\n",
    "#print(y_train)\n",
    "#clf.fit(x_train, y_train)\n",
    "#clf.predict_proba(x_test)\n",
    "#clf.predict(x_test)\n",
    "#clf.score(x_test, y_test)\n",
    "##Evaluacion del modelado\n",
    "#\n",
    "#accuracy=round(clf.score(x_test, y_test),3)\n",
    "#print(\"***Exactitud: \",accuracy,\"***\")\n",
    "#\n",
    "#\n",
    "##Evaluacion del modelo\n",
    "#y_pred = clf.predict(x_test)\n",
    "#cm = confusion_matrix(y_test, y_pred, labels=clf.classes_)\n",
    "#disp = ConfusionMatrixDisplay(confusion_matrix=cm,display_labels=clf.classes_)\n",
    "#disp.plot(values_format = '')\n",
    "#plt.show()"
   ]
  }
 ],
 "metadata": {
  "kernelspec": {
   "display_name": "Python 3.9.12 ('base')",
   "language": "python",
   "name": "python3"
  },
  "language_info": {
   "codemirror_mode": {
    "name": "ipython",
    "version": 3
   },
   "file_extension": ".py",
   "mimetype": "text/x-python",
   "name": "python",
   "nbconvert_exporter": "python",
   "pygments_lexer": "ipython3",
   "version": "3.9.12"
  },
  "orig_nbformat": 4,
  "vscode": {
   "interpreter": {
    "hash": "5687c4ba954387de720d26b7d2bd9411595b3bcd505089a212352cf21bbeb4b7"
   }
  }
 },
 "nbformat": 4,
 "nbformat_minor": 2
}
