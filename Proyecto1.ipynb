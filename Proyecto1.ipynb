{
 "cells": [
  {
   "cell_type": "markdown",
   "metadata": {},
   "source": [
    "Mini proyecto de regresion lineal | Examen Medio Curso | Redes Neuronales Artificiales\n",
    "\n",
    "Autor: Alex Garcia Serna\n",
    "Matricula:  1725239\n",
    "Correo: alex.garciase@uanl.edu.mx\n",
    "Github: github.com/AlexGarSer\n",
    "\n",
    "Objetivo:\n",
    "El mini proyecto consiste en desarrollar un algoritmo que recibe como entrada valores dados por el usuario de las variables de control seleccionadas como relevantes y devuelve al usuario el tiempo de producción esperado si se ajustan los controles con dichos valores dados.\n",
    "\n",
    "La informacion utilizada para este proyecto al ser de caracter sensible se eliminaron los nombres de las columnas por razones de confidencialidad y se sustituyeron por \"X\" + \"# de la columna\"."
   ]
  },
  {
   "cell_type": "code",
   "execution_count": 94,
   "metadata": {},
   "outputs": [],
   "source": [
    "# El dataset utilizado en este proyecto se encuentra nombrado como ProblemaRegresion.csv\n",
    "# Este dataset fue otorgado por el instructor y para uso exclusivo del examen.\n",
    "\n",
    "#Librerias a utlizar\n",
    "import pandas as pd\n",
    "from sklearn.preprocessing import StandardScaler\n",
    "from sklearn import preprocessing\n",
    "from sklearn.model_selection import train_test_split\n",
    "#Primero se leen los datos del dataset y los pasamos a un dataframe para poder manipularlos.\n",
    "datos = pd.read_csv(\"ProblemaRegresion.csv\")"
   ]
  },
  {
   "cell_type": "markdown",
   "metadata": {},
   "source": [
    "Al darnos cuenta que faltaba informacion en el dataset y marcaba errrores al querer utilizarla decidimos utilizar los datos de media que teniamos actualmente para rellenar los espacios vacios."
   ]
  },
  {
   "cell_type": "code",
   "execution_count": 95,
   "metadata": {},
   "outputs": [
    {
     "name": "stdout",
     "output_type": "stream",
     "text": [
      "y       36.519935\n",
      "x1      28.651091\n",
      "x2      53.725729\n",
      "x3      17.623180\n",
      "x4      40.693215\n",
      "x5      16.716437\n",
      "x6      23.954144\n",
      "x7       1.453853\n",
      "x8     184.806763\n",
      "x9     146.621576\n",
      "x10    125.241155\n",
      "x11    120.654717\n",
      "x12     59.565670\n",
      "x13    477.957222\n",
      "x14     40.567198\n",
      "x15     56.332647\n",
      "x16      1.797769\n",
      "x17     93.638739\n",
      "x18      3.841009\n",
      "x19     84.598280\n",
      "x20     18.863547\n",
      "x21      5.701706\n",
      "x22     94.396895\n",
      "x23      4.080073\n",
      "x24     85.413006\n",
      "x25      7.146739\n",
      "x26     23.322593\n",
      "x27     93.797414\n",
      "x28      3.703272\n",
      "x29     84.278472\n",
      "x30     92.663914\n",
      "x31      3.439937\n",
      "x32     83.958096\n",
      "x33     13.799972\n",
      "x34      4.036723\n",
      "dtype: float64\n",
      "\n",
      "\n",
      "\n",
      "\n"
     ]
    }
   ],
   "source": [
    "#Se imprime la media de todas las columnas del dataframe\n",
    "print(datos.mean())\n",
    "print('\\n'*3)"
   ]
  },
  {
   "cell_type": "markdown",
   "metadata": {},
   "source": []
  },
  {
   "cell_type": "markdown",
   "metadata": {},
   "source": [
    "Una vez completados todos los datos, procedo a seccionar las salidas y las caracteristicas del dataset\n",
    "donde Y representa las salidas esperadas y X son las caracteristicas"
   ]
  },
  {
   "cell_type": "code",
   "execution_count": 96,
   "metadata": {},
   "outputs": [
    {
     "name": "stdout",
     "output_type": "stream",
     "text": [
      "           y\n",
      "0  31.303077\n",
      "1  32.520000\n",
      "2  31.936000\n",
      "3  31.822500\n",
      "4  31.383636\n",
      "\n",
      "\n",
      "\n",
      "\n",
      "          x1         x2         x4         x5         x6        x7  \\\n",
      "0  23.403665  61.001078  37.547146  16.806608  24.772692  1.497338   \n",
      "1  20.864591  65.232089  39.407843  16.170943  23.027157  1.425443   \n",
      "2  21.788283  63.692885  40.569120  15.907050  23.273360  1.470490   \n",
      "3  24.315423  59.481762  39.062450  16.688242  23.917008  1.448125   \n",
      "4  24.649930  58.924352  39.968936  16.013227  23.566355  1.483309   \n",
      "\n",
      "           x8          x9         x10         x11  ...   x24       x25  \\\n",
      "0  171.359231  144.714615  114.259231  126.846154  ...  86.1  7.237142   \n",
      "1  176.830000  143.911429  119.740000  124.571429  ...  86.1  5.811863   \n",
      "2  176.234000  146.550000  118.956000  124.300000  ...  85.6  6.908267   \n",
      "3  174.932500  147.945833  116.710000  126.750000  ...  85.6  0.931507   \n",
      "4  176.130000  147.524545  118.110909  127.545455  ...  85.6  4.306220   \n",
      "\n",
      "         x26   x27  x28   x29      x30    x31      x32       x34  \n",
      "0  23.714156  94.6  3.5  84.6  92.2195  3.194  84.7070  2.941176  \n",
      "1  19.832235  94.6  3.7  84.4  92.9545  3.970  84.7095  2.636535  \n",
      "2  16.987542  94.4  3.5  84.9  91.9665  3.345  85.0610  3.073770  \n",
      "3   6.575342  93.8  3.4  84.9  92.3300  3.435  84.5680  3.343465  \n",
      "4  15.037594  93.8  3.8  85.0  93.6735  3.615  84.6350  3.110048  \n",
      "\n",
      "[5 rows x 30 columns]\n"
     ]
    }
   ],
   "source": [
    "Y=datos[['y']] # se filtran la columna de salida esperada\n",
    "print(Y[:5]) # Se imprime para corroborar que sean los datos esperados\n",
    "\n",
    "print('\\n'*3)\n",
    "\n",
    "# Se filtran las columans que conformaran las caracteristicas\n",
    "X = datos[['x1','x2','x4','x5','x6','x7','x8','x9','x10','x11','x12','x14','x15','x16','x17','x18','x19','x20','x21','x22','x24','x25','x26','x27','x28','x29','x30','x31','x32','x34']] #Caracteristicas del conjunto\n",
    "print(X[:5]) # Se imprime para corroborar que sean los datos esperados\n"
   ]
  },
  {
   "cell_type": "code",
   "execution_count": 97,
   "metadata": {},
   "outputs": [
    {
     "name": "stdout",
     "output_type": "stream",
     "text": [
      "             y         x1         x2         x3         x4         x5  \\\n",
      "0    31.303077  23.403665  61.001078  15.595257  37.547146  16.806608   \n",
      "1    32.520000  20.864591  65.232089  13.903320  39.407843  16.170943   \n",
      "2    31.936000  21.788283  63.692885  14.518832  40.569120  15.907050   \n",
      "3    31.822500  24.315423  59.481762  16.202815  39.062450  16.688242   \n",
      "4    31.383636  24.649930  58.924352  16.425718  39.968936  16.013227   \n",
      "..         ...        ...        ...        ...        ...        ...   \n",
      "761  35.261250  26.110933  56.618658  17.270409  40.162700  17.288412   \n",
      "762  34.576000  24.906090  58.625029  16.468882  42.486990  16.380330   \n",
      "763  36.841000  26.603597  55.798247  17.598156  42.065450  16.348790   \n",
      "764  36.717500  16.846006  72.047118  11.106877  42.785300  16.426838   \n",
      "765  36.519935  28.651091  53.725729  17.623180  40.693215  16.716437   \n",
      "\n",
      "            x6        x7          x8          x9  ...       x25        x26  \\\n",
      "0    24.772692  1.497338  171.359231  144.714615  ...  7.237142  23.714156   \n",
      "1    23.027157  1.425443  176.830000  143.911429  ...  5.811863  19.832235   \n",
      "2    23.273360  1.470490  176.234000  146.550000  ...  6.908267  16.987542   \n",
      "3    23.917008  1.448125  174.932500  147.945833  ...  0.931507   6.575342   \n",
      "4    23.566355  1.483309  176.130000  147.524545  ...  4.306220  15.037594   \n",
      "..         ...       ...         ...         ...  ...       ...        ...   \n",
      "761  23.996475  1.418138  197.782500  149.975000  ...  1.600366  11.705533   \n",
      "762  22.782080  1.403720  198.194000  143.477000  ...  6.078905  13.768116   \n",
      "763  23.590630  1.454620  195.937000  146.613000  ...  5.933852  14.153696   \n",
      "764  21.988762  1.349713  198.701250  151.196250  ...  1.066408   7.367911   \n",
      "765  23.954144  1.453853  184.806763  146.621576  ...  7.093873  23.161760   \n",
      "\n",
      "           x27       x28        x29        x30       x31        x32  \\\n",
      "0    94.600000  3.500000  84.600000  92.219500  3.194000  84.707000   \n",
      "1    94.600000  3.700000  84.400000  92.954500  3.970000  84.709500   \n",
      "2    94.400000  3.500000  84.900000  91.966500  3.345000  85.061000   \n",
      "3    93.800000  3.400000  84.900000  92.330000  3.435000  84.568000   \n",
      "4    93.800000  3.800000  85.000000  93.673500  3.615000  84.635000   \n",
      "..         ...       ...        ...        ...       ...        ...   \n",
      "761  93.400000  3.400000  85.700000  92.413000  3.320000  84.511000   \n",
      "762  92.700000  3.200000  85.700000  92.255000  3.700000  84.794000   \n",
      "763  92.700000  3.500000  85.600000  92.067000  3.660000  83.243000   \n",
      "764  94.000000  3.500000  85.700000  92.551000  3.252000  83.812000   \n",
      "765  93.819203  3.706159  84.309662  92.557005  3.442347  83.914348   \n",
      "\n",
      "           x33       x34  \n",
      "0    10.661765  2.941176  \n",
      "1     9.604520  2.636535  \n",
      "2    11.270492  3.073770  \n",
      "3    11.550152  3.343465  \n",
      "4    10.526316  3.110048  \n",
      "..         ...       ...  \n",
      "761  12.962963  3.333333  \n",
      "762  12.111293  1.963993  \n",
      "763  15.657620  5.636743  \n",
      "764   7.313830  1.063830  \n",
      "765  13.842935  4.027398  \n",
      "\n",
      "[766 rows x 35 columns]\n",
      "\n",
      "\n",
      "\n",
      "\n"
     ]
    }
   ],
   "source": [
    "#Se imprime el dataframe\n",
    "print(datos)\n",
    "print('\\n'*3)"
   ]
  },
  {
   "cell_type": "code",
   "execution_count": 98,
   "metadata": {},
   "outputs": [
    {
     "name": "stdout",
     "output_type": "stream",
     "text": [
      "(766, 35)\n",
      "\n",
      "\n",
      "\n",
      "\n"
     ]
    }
   ],
   "source": [
    "#Se imprime la cantidad de filas y columnas que tiene el datasframe\n",
    "print(datos.shape)\n",
    "print('\\n'*3)"
   ]
  },
  {
   "cell_type": "markdown",
   "metadata": {},
   "source": [
    "Para empezar a trabajar con los datos primero los pasaremos por una transformacion ya que algunos de los datos no son de las mismas magnitudes los pasaremos por una transformacion de centrado, escalado y normalizado, para ellos utilizaremos la libreria Sklearn con su funcion preprocessing.StandardScaler"
   ]
  },
  {
   "cell_type": "code",
   "execution_count": 99,
   "metadata": {},
   "outputs": [
    {
     "name": "stdout",
     "output_type": "stream",
     "text": [
      "StandardScaler()\n"
     ]
    }
   ],
   "source": [
    "scaler = preprocessing.StandardScaler()\n",
    "datos=scaler.fit_transform(X)\n",
    "print(scaler)"
   ]
  },
  {
   "cell_type": "markdown",
   "metadata": {},
   "source": [
    "Una vez que ya tenemos los datos es hora de seccionar cuales de ellos seran utilizados para el entrenamiento de la red neuronal y cuales seran la comprobacion de que la red neuronal predice de manera correcta.\n",
    "\n",
    "En este caso utilizaremos una proporcion 70%:30% para otorgar mas ejemplos de entrenamiento a la red neuronal que la que va a predecir.\n",
    "\n",
    "Al ser 766 datos utilizaremos 536 que es el equivalente al 70% de los datos para el conjunto de entrenamiento y solo 230 para el conjunto de pruebas para corroborar el funcionamiento de la red neuronal."
   ]
  },
  {
   "cell_type": "code",
   "execution_count": 100,
   "metadata": {},
   "outputs": [
    {
     "name": "stdout",
     "output_type": "stream",
     "text": [
      "(536, 30)\n",
      "(230, 30)\n",
      "\n",
      "\n",
      "\n",
      "\n",
      "Estandarizando...\n",
      "Estandarizando...\n",
      "Estandarizando...\n",
      "\n",
      "Estandarizado Completado!\n"
     ]
    }
   ],
   "source": [
    "#Division en conjunto de entrenamiento y conjunto de prueba\n",
    "x_train, x_test, y_train, y_test = train_test_split(X,Y,test_size=0.3)\n",
    "\n",
    "# Se imprime la cantidad de pruebas por cada set\n",
    "print(x_train.shape) #Se imprime la cantidade columnas y filas a utilizar\n",
    "print(x_test.shape) #Se imprime la cantidade columnas y filas a utilizar\n",
    "print(\"\\n\"*3)\n",
    "\n",
    "#Estandar de conjuntos de entrenamiento y prueba\n",
    "x_train = StandardScaler().fit_transform(x_train.astype(str))\n",
    "x_test = StandardScaler().fit_transform(x_test)\n",
    "\n",
    "print(\"Estandarizando...\\n\"*3)\n",
    "print(\"Estandarizado Completado!\")"
   ]
  },
  {
   "cell_type": "code",
   "execution_count": 101,
   "metadata": {},
   "outputs": [
    {
     "name": "stdout",
     "output_type": "stream",
     "text": [
      "Entrenamiento\n",
      "[[-0.25492477  0.41534828  0.20156949 -0.37109413  0.4000494   0.68966529\n",
      "  -0.17835415 -0.11894139  0.00455405  0.30807198 -0.21950952  0.8557226\n",
      "   0.41295391 -0.43819665  0.4304079   0.14314863  0.15985808 -0.14157252\n",
      "  -0.11864886  0.66155513 -0.10410949 -0.21528953 -0.04817969 -0.64985342\n",
      "  -0.77963713 -0.16316742  1.0069816  -0.7418685   0.82652615 -0.05649251]\n",
      " [-0.26135566  0.55369593  1.47532453 -1.31987829 -1.29069902 -0.13321737\n",
      "   0.96055578 -0.40981444  0.9530222   0.65862541  0.0234937   1.26002048\n",
      "   1.35445448 -0.46703145 -0.44818656  0.75223445 -0.07181624  0.5624545\n",
      "   1.61257108 -1.54490398 -0.90416046  1.5100603   0.58442486 -0.1709935\n",
      "   0.69952295 -0.76209395 -0.23082534  0.11646609  2.12733984 -0.34659889]\n",
      " [-0.41180498  0.40611842 -0.2652248   0.47234347  0.14148952 -0.3532453\n",
      "  -0.11601473 -0.60737652 -0.31022589  0.10977913  0.22840778 -0.35026311\n",
      "   0.53005397 -0.51687875  0.30214011  0.29037951 -0.01127946 -0.57402991\n",
      "  -0.54087906 -0.0099759  -0.50413497 -0.82437418 -0.87967306  0.94634631\n",
      "   1.80889301 -0.31289905  0.75702208 -0.86902918  0.35143596  0.67894683]\n",
      " [-0.202975    0.37000214  0.12342162 -0.6222261   0.27318348  0.85761129\n",
      "  -0.35789224  1.12322557 -0.62778701  0.5287908   0.31431957 -1.91844556\n",
      "   0.07702664 -0.2585869   0.46534778  0.09752914  0.21206113 -0.55480455\n",
      "  -0.19147953  0.18189011  0.295916   -0.64984055 -0.92799883  1.42520623\n",
      "  -0.40984711  0.13629584  1.18776413 -0.07427493 -0.48984465  1.39741983]\n",
      " [-0.32277769  0.47457602  0.40541813 -0.66865718  0.72335389  1.45513773\n",
      "  -0.39191905  1.15805592 -0.57996924  0.10682834  0.21676015 -0.57713611\n",
      "  -0.4060582  -0.41040853  0.0110458   1.48416792  0.07351374  0.59424665\n",
      "   2.67164674 -0.68150694 -0.10410949  2.50255479  0.63959398  0.30786642\n",
      "   0.69952295 -0.76209395  0.91659033  0.49794814  0.45913903  0.16311054]]\n",
      "Prueba\n",
      "[[-0.83175196  0.75119073 -0.97332429  1.25036955  1.11256944 -0.07273122\n",
      "  -0.1765903   1.14112342  0.40208069  0.9223347  -0.64854694  0.0501677\n",
      "  -0.6202876   0.17555682  0.19068924  1.91546799  0.21901798  0.3345364\n",
      "   0.62182564  0.31286896  0.5359159   0.12701137 -0.17682716  0.35358436\n",
      "   0.79636275 -0.179553   -0.54560749 -0.417261   -0.18361129  1.39299348]\n",
      " [ 3.32422592 -3.28042426  2.63713376 -1.58212356 -2.23827842 -1.08057717\n",
      "  -0.5460133  -1.1550794  -2.40428772 -1.23122239  1.76203735 -0.10264444\n",
      "   0.61396295  3.40890266 -0.11893828 -1.97892391 -0.15951776 -1.48083413\n",
      "  -1.89031465         nan         nan         nan         nan -1.68737555\n",
      "  -1.43280681 -0.6811383   0.36445978 -1.27735734 -0.31346758 -1.71552094]\n",
      " [-0.77988194  0.69782729 -0.74460126  0.6272619   0.99829194  0.39335514\n",
      "  -0.13834229  1.49440718 -0.5197937   0.40026025  0.35403226 -0.32138584\n",
      "  -0.88435236  0.70567699  0.23127662  0.64958515  0.28244867 -0.29951128\n",
      "  -0.12909679  0.96712928  1.59408588 -0.45822157 -0.63740712 -1.37338172\n",
      "  -0.31822203 -2.0186991  -0.81737611  1.16379844 -0.46114727  0.80433675]\n",
      " [ 0.36140693  0.09824278 -0.9285546   1.28327172  1.06599504 -0.08857977\n",
      "  -0.10051548  0.56948005  0.52562147  0.44376646 -0.67575931  0.40085532\n",
      "   0.19492288 -0.57557653  0.33484028 -0.65908943  0.08375537  0.55283043\n",
      "   0.14270854  0.87366352  0.40364465  0.57201952  1.26358109  0.98157202\n",
      "  -1.43280681 -1.1827236   1.03583555 -1.01806359 -1.17281063 -1.35068367]\n",
      " [-0.46950006  0.378509   -0.83236643  0.73505612  1.28382728  0.50546151\n",
      "  -0.5383257   0.24591339 -0.39320978  0.36730101 -0.30488374 -0.12547898\n",
      "  -0.51234503 -0.14521396  0.08990015  0.77932661  0.27055596 -0.29033386\n",
      "  -0.519033    0.59326624  1.46181463 -0.83840088 -0.80240006 -1.2163848\n",
      "  -1.43280681  0.3220323  -2.18694691  0.34164753 -1.56874499  0.74440724]]\n"
     ]
    }
   ],
   "source": [
    "\n",
    "print(\"Entrenamiento\")\n",
    "print(x_train[:5])\n",
    "print(\"Prueba\")\n",
    "print(x_test[:5])"
   ]
  },
  {
   "cell_type": "markdown",
   "metadata": {},
   "source": [
    "Continuaremos aplicando ahora si la regresion lineal utilizando los datos de entrenamiento"
   ]
  },
  {
   "cell_type": "code",
   "execution_count": null,
   "metadata": {},
   "outputs": [],
   "source": [
    "regresion = linear_model.LinearRegression()\n",
    "regresion.fit(x_train,y_train)"
   ]
  }
 ],
 "metadata": {
  "kernelspec": {
   "display_name": "Python 3.9.12 ('base')",
   "language": "python",
   "name": "python3"
  },
  "language_info": {
   "codemirror_mode": {
    "name": "ipython",
    "version": 3
   },
   "file_extension": ".py",
   "mimetype": "text/x-python",
   "name": "python",
   "nbconvert_exporter": "python",
   "pygments_lexer": "ipython3",
   "version": "3.9.12"
  },
  "orig_nbformat": 4,
  "vscode": {
   "interpreter": {
    "hash": "5687c4ba954387de720d26b7d2bd9411595b3bcd505089a212352cf21bbeb4b7"
   }
  }
 },
 "nbformat": 4,
 "nbformat_minor": 2
}
