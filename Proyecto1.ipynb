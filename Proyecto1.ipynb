{
 "cells": [
  {
   "cell_type": "markdown",
   "metadata": {},
   "source": [
    "Mini proyecto de regresion lineal | Examen Medio Curso | Redes Neuronales Artificiales\n",
    "\n",
    "Autor: Alex Garcia Serna\n",
    "Matricula:  1725239\n",
    "Correo: alex.garciase@uanl.edu.mx\n",
    "Github: github.com/AlexGarSer\n",
    "\n",
    "Objetivo:\n",
    "El mini proyecto consiste en desarrollar un algoritmo que recibe como entrada valores dados por el usuario de las variables de control seleccionadas como relevantes y devuelve al usuario el tiempo de producción esperado si se ajustan los controles con dichos valores dados.\n",
    "\n",
    "La informacion utilizada para este proyecto al ser de caracter sensible se eliminaron los nombres de las columnas por razones de confidencialidad y se sustituyeron por \"X\" + \"# de la columna\"."
   ]
  },
  {
   "cell_type": "markdown",
   "metadata": {},
   "source": [
    "Para comenzar utilizaremos las siguientes librerias"
   ]
  },
  {
   "cell_type": "code",
   "execution_count": 12,
   "metadata": {},
   "outputs": [],
   "source": [
    "#Librerias a utlizar\n",
    "from sklearn.linear_model import LinearRegression\n",
    "import pandas as pd\n",
    "import matplotlib.pyplot as plt\n",
    "import numpy as np\n",
    "from sklearn.metrics import mean_squared_error\n",
    "from sklearn.model_selection import train_test_split"
   ]
  },
  {
   "cell_type": "markdown",
   "metadata": {},
   "source": [
    "El dataset utilizado en este proyecto se encuentra nombrado como ProblemaRegresion.csv, \n",
    "este dataset fue otorgado por el instructor y para uso exclusivo del examen."
   ]
  },
  {
   "cell_type": "code",
   "execution_count": 13,
   "metadata": {},
   "outputs": [],
   "source": [
    "# Primero se leen los datos del dataset y los pasamos a un dataframe para poder manipularlos.\n",
    "datos = pd.read_csv(\"./Datos/ProblemaRegresion.csv\")"
   ]
  },
  {
   "cell_type": "markdown",
   "metadata": {},
   "source": [
    "Al darnos cuenta que faltaba informacion en el dataset y marcaba errores al querer utilizarla decidimos utilizar los datos de media que teniamos actualmente para rellenar los espacios vacios, ya que no senti la necesidad de eliminar columnas por que al no saber cual de todas realmente influyen de manera correcta existe la posibilidad de eliminar una que realmente sea importante."
   ]
  },
  {
   "cell_type": "code",
   "execution_count": 14,
   "metadata": {},
   "outputs": [
    {
     "name": "stdout",
     "output_type": "stream",
     "text": [
      "y       36.519935\n",
      "x1      28.651091\n",
      "x2      53.725729\n",
      "x3      17.623180\n",
      "x4      40.693215\n",
      "x5      16.716437\n",
      "x6      23.954144\n",
      "x7       1.453853\n",
      "x8     184.806763\n",
      "x9     146.621576\n",
      "x10    125.241155\n",
      "x11    120.654717\n",
      "x12     59.565670\n",
      "x13    477.957222\n",
      "x14     40.567198\n",
      "x15     56.332647\n",
      "x16      1.797769\n",
      "x17     93.638739\n",
      "x18      3.841009\n",
      "x19     84.598280\n",
      "x20     18.863547\n",
      "x21      5.701706\n",
      "x22     94.396895\n",
      "x23      4.080073\n",
      "x24     85.413006\n",
      "x25      7.146739\n",
      "x26     23.322593\n",
      "x27     93.797414\n",
      "x28      3.703272\n",
      "x29     84.278472\n",
      "x30     92.663914\n",
      "x31      3.439937\n",
      "x32     83.958096\n",
      "x33     13.799972\n",
      "x34      4.036723\n",
      "dtype: float64\n",
      "\n",
      "\n",
      "\n",
      "\n"
     ]
    }
   ],
   "source": [
    "#Se imprime la media de todas las columnas del dataframe\n",
    "print(datos.mean())\n",
    "print('\\n'*3)"
   ]
  },
  {
   "cell_type": "markdown",
   "metadata": {},
   "source": [
    "El procedimiento fue manual directamente en el CSV por medio de la herramienta: Edit CSV de janisdd id de extencion: janisdd.vscode-edit-csv"
   ]
  },
  {
   "cell_type": "markdown",
   "metadata": {},
   "source": [
    "Una vez completados todos los datos, procedo a seccionar las salidas y las caracteristicas del dataset\n",
    "donde Y representa las salidas esperadas y X son las caracteristicas"
   ]
  },
  {
   "cell_type": "code",
   "execution_count": 15,
   "metadata": {},
   "outputs": [],
   "source": [
    "Y = datos.iloc[:,:-34].values # Las etiquetas\n",
    "X = datos.iloc[:,1:].values #Caracteristicas del conjunto"
   ]
  },
  {
   "cell_type": "markdown",
   "metadata": {},
   "source": [
    "Una vez que ya tenemos los datos es hora de seccionar cuales de ellos seran utilizados para el entrenamiento de la red neuronal y cuales seran la comprobacion de que la red neuronal predice de manera correcta.\n",
    "\n",
    "En este caso utilizaremos una proporcion 70% : 30% para otorgar mas ejemplos de entrenamiento a la red neuronal que la que va a predecir.\n",
    "\n",
    "Al ser 766 datos utilizaremos 536 que es el equivalente al 70% de los datos para el conjunto de entrenamiento y solo 230 para el conjunto de pruebas para corroborar el funcionamiento de la red neuronal."
   ]
  },
  {
   "cell_type": "code",
   "execution_count": 16,
   "metadata": {},
   "outputs": [
    {
     "name": "stdout",
     "output_type": "stream",
     "text": [
      "Cantidad a utilizar para el entrenamiento:  (536, 34)\n",
      "Cantidad a utilizar para la prueba:  (230, 34)\n"
     ]
    }
   ],
   "source": [
    "#Division en conjunto de entrenamiento y conjunto de prueba\n",
    "x_train, x_test, y_train, y_test = train_test_split(X,Y,test_size=0.3)\n",
    "\n",
    "# Se imprime la cantidad de pruebas por cada set\n",
    "print('Cantidad a utilizar para el entrenamiento: ',x_train.shape) #Se imprime la cantidade columnas y filas a utilizar\n",
    "print('Cantidad a utilizar para la prueba: ',x_test.shape) #Se imprime la cantidade columnas y filas a utilizar"
   ]
  },
  {
   "cell_type": "markdown",
   "metadata": {},
   "source": [
    "Continuaremos aplicando ahora si la regresion lineal utilizando el set de entrenamiento ya anterior mente establecido"
   ]
  },
  {
   "cell_type": "code",
   "execution_count": 17,
   "metadata": {},
   "outputs": [],
   "source": [
    "regresion = LinearRegression() #Funcion de regresion\n",
    "regresion = regresion.fit(x_train,y_train) #Funcion de entrenamiento con sus respecitvas caracteristicas y etiquetas"
   ]
  },
  {
   "cell_type": "markdown",
   "metadata": {},
   "source": [
    "Una vez entrenado ya nuestra funcion de regresion con esta informacion pasaremos a realizar una comprobacion del aprendizaje, comparando una nueva prediccion con los datos de prueba y comparandolos con las salidas esperadas de la misma seccion de pruebas."
   ]
  },
  {
   "cell_type": "code",
   "execution_count": 18,
   "metadata": {},
   "outputs": [
    {
     "name": "stdout",
     "output_type": "stream",
     "text": [
      "[[ 43.25 ]\n",
      " [ 34.625]\n",
      " [ 22.125]\n",
      " [ 21.25 ]\n",
      " [ 32.625]\n",
      " [ 50.625]\n",
      " [ 27.875]\n",
      " [ 17.5  ]\n",
      " [ 44.75 ]\n",
      " [ 43.   ]\n",
      " [ 33.25 ]\n",
      " [ 44.5  ]\n",
      " [ 42.25 ]\n",
      " [ 33.125]\n",
      " [ 68.75 ]\n",
      " [ 43.25 ]\n",
      " [ 33.75 ]\n",
      " [ 50.5  ]\n",
      " [ 44.375]\n",
      " [ 62.5  ]\n",
      " [ 29.25 ]\n",
      " [ 59.25 ]\n",
      " [ 40.625]\n",
      " [ 44.625]\n",
      " [ 36.375]\n",
      " [ 28.375]\n",
      " [ 30.75 ]\n",
      " [ 22.   ]\n",
      " [ 21.625]\n",
      " [ 47.5  ]\n",
      " [ 50.125]\n",
      " [ 31.25 ]\n",
      " [ 39.   ]\n",
      " [ 30.75 ]\n",
      " [ 34.25 ]\n",
      " [ 31.375]\n",
      " [ 48.25 ]\n",
      " [ 24.25 ]\n",
      " [ 23.5  ]\n",
      " [ 25.875]\n",
      " [ 31.75 ]\n",
      " [ 57.75 ]\n",
      " [ 25.   ]\n",
      " [ 33.25 ]\n",
      " [ 33.375]\n",
      " [ 34.625]\n",
      " [ 33.625]\n",
      " [ 50.625]\n",
      " [ 31.875]\n",
      " [ 40.5  ]\n",
      " [ 39.25 ]\n",
      " [ 50.375]\n",
      " [ 62.   ]\n",
      " [ 57.5  ]\n",
      " [ 28.25 ]\n",
      " [ 16.75 ]\n",
      " [ 29.125]\n",
      " [ 46.75 ]\n",
      " [ 26.5  ]\n",
      " [ 29.125]\n",
      " [ 43.   ]\n",
      " [ 74.25 ]\n",
      " [ 27.75 ]\n",
      " [ 45.75 ]\n",
      " [ 31.25 ]\n",
      " [ 40.   ]\n",
      " [ 44.5  ]\n",
      " [ 28.625]\n",
      " [ 57.75 ]\n",
      " [ 38.5  ]\n",
      " [ 32.75 ]\n",
      " [ 39.375]\n",
      " [ 18.   ]\n",
      " [ 23.   ]\n",
      " [ 28.875]\n",
      " [ 34.5  ]\n",
      " [ 37.625]\n",
      " [ 43.75 ]\n",
      " [ 42.   ]\n",
      " [ 25.875]\n",
      " [ 39.875]\n",
      " [ 23.   ]\n",
      " [ 32.375]\n",
      " [ 24.875]\n",
      " [ 33.875]\n",
      " [ 26.   ]\n",
      " [ 24.125]\n",
      " [ 34.5  ]\n",
      " [ 57.25 ]\n",
      " [ 26.625]\n",
      " [ 35.875]\n",
      " [ 71.25 ]\n",
      " [ 45.5  ]\n",
      " [ 85.25 ]\n",
      " [-57.75 ]\n",
      " [ 26.25 ]\n",
      " [ 15.   ]\n",
      " [ 27.5  ]\n",
      " [ 28.125]\n",
      " [ 49.   ]\n",
      " [ 40.625]\n",
      " [ 89.625]\n",
      " [ 40.875]\n",
      " [ 34.375]\n",
      " [ 26.125]\n",
      " [ 20.375]\n",
      " [ 30.25 ]\n",
      " [ 50.5  ]\n",
      " [ 39.875]\n",
      " [ 43.125]\n",
      " [ 30.25 ]\n",
      " [191.5  ]\n",
      " [ 29.125]\n",
      " [ 35.75 ]\n",
      " [ 31.   ]\n",
      " [ 32.625]\n",
      " [ 34.875]\n",
      " [ 10.125]\n",
      " [ 34.125]\n",
      " [ 34.625]\n",
      " [ 34.875]\n",
      " [ 34.625]\n",
      " [ 15.375]\n",
      " [ 31.75 ]\n",
      " [ 41.5  ]\n",
      " [ 50.5  ]\n",
      " [  8.125]\n",
      " [ 32.25 ]\n",
      " [ 37.625]\n",
      " [ 58.625]\n",
      " [ 27.625]\n",
      " [ 42.5  ]\n",
      " [ 41.375]\n",
      " [ 58.5  ]\n",
      " [ 40.75 ]\n",
      " [ 22.75 ]\n",
      " [ 32.25 ]\n",
      " [ 36.375]\n",
      " [ 30.125]\n",
      " [ 51.625]\n",
      " [ 34.125]\n",
      " [ 28.875]\n",
      " [ 15.   ]\n",
      " [ 72.875]\n",
      " [ 35.75 ]\n",
      " [ 20.125]\n",
      " [ 33.5  ]\n",
      " [ 25.5  ]\n",
      " [ 41.625]\n",
      " [ 47.625]\n",
      " [ 32.75 ]\n",
      " [ 27.875]\n",
      " [ 27.75 ]\n",
      " [ 65.375]\n",
      " [ 15.25 ]\n",
      " [ 42.5  ]\n",
      " [ 31.75 ]\n",
      " [ 31.125]\n",
      " [ 23.25 ]\n",
      " [ 23.5  ]\n",
      " [ 37.   ]\n",
      " [ 28.875]\n",
      " [ 42.375]\n",
      " [ 33.   ]\n",
      " [ 36.   ]\n",
      " [ 36.25 ]\n",
      " [ 24.5  ]\n",
      " [ 36.25 ]\n",
      " [ 34.125]\n",
      " [140.375]\n",
      " [ 39.25 ]\n",
      " [ 32.75 ]\n",
      " [ 13.5  ]\n",
      " [ 51.5  ]\n",
      " [ 58.25 ]\n",
      " [ 32.   ]\n",
      " [ 35.125]\n",
      " [ 32.25 ]\n",
      " [ 33.75 ]\n",
      " [ 41.875]\n",
      " [ 23.   ]\n",
      " [ 52.5  ]\n",
      " [ 24.125]\n",
      " [ 63.25 ]\n",
      " [ 18.5  ]\n",
      " [ 40.75 ]\n",
      " [ 40.   ]\n",
      " [ 21.75 ]\n",
      " [ 17.375]\n",
      " [ 21.125]\n",
      " [ 49.25 ]\n",
      " [ 26.625]\n",
      " [ 18.75 ]\n",
      " [ 30.5  ]\n",
      " [ 35.25 ]\n",
      " [ 20.   ]\n",
      " [ 73.25 ]\n",
      " [ 34.5  ]\n",
      " [ 37.   ]\n",
      " [ 28.   ]\n",
      " [ 39.375]\n",
      " [ 45.25 ]\n",
      " [ 31.   ]\n",
      " [ 55.75 ]\n",
      " [ 26.25 ]\n",
      " [ 35.25 ]\n",
      " [ 24.5  ]\n",
      " [ 21.625]\n",
      " [ 38.625]\n",
      " [ 22.75 ]\n",
      " [ 23.25 ]\n",
      " [ 23.75 ]\n",
      " [ 25.375]\n",
      " [ 34.125]\n",
      " [ 38.625]\n",
      " [ 40.25 ]\n",
      " [ 22.5  ]\n",
      " [ 44.125]\n",
      " [ 35.125]\n",
      " [ 39.125]\n",
      " [ 57.   ]\n",
      " [ 37.375]\n",
      " [ 24.25 ]\n",
      " [ 27.5  ]\n",
      " [ 33.625]\n",
      " [  6.5  ]\n",
      " [ 31.   ]\n",
      " [ 22.   ]\n",
      " [ 35.625]\n",
      " [ 63.625]]\n"
     ]
    }
   ],
   "source": [
    "y_prediccion = regresion.predict(x_test)\n",
    "print(y_prediccion)"
   ]
  },
  {
   "cell_type": "markdown",
   "metadata": {},
   "source": [
    "Ya una vez obtenida hay que corroborarla con el marco de error y con nuestra r^2 para llevar acabo una interpretacion mejor.\n",
    "\n",
    "Esta informacion la podemos interpretar de la siguiente manera:\n",
    "\n",
    "    Si el margen de error es mayor a 50 la prediccion deja de ser buena\n",
    "\n",
    "    Si el valor cualculado de R^2 es el mas cercano a 1 sin llegar a ser 1 entonces el resultado de prediccione es muy bueno. "
   ]
  },
  {
   "cell_type": "code",
   "execution_count": 19,
   "metadata": {},
   "outputs": [
    {
     "name": "stdout",
     "output_type": "stream",
     "text": [
      "El valor de error:  14.495369813930935\n",
      "El valor de R cuadrada:  0.835787459558843\n"
     ]
    }
   ],
   "source": [
    "error = np.sqrt(mean_squared_error(y_test,y_prediccion))\n",
    "r2 = regresion.score(x_train,y_train)\n",
    "\n",
    "print(\"El valor de error: \",error)\n",
    "print(\"El valor de R cuadrada: \",r2)\n"
   ]
  },
  {
   "cell_type": "markdown",
   "metadata": {},
   "source": []
  },
  {
   "cell_type": "markdown",
   "metadata": {},
   "source": [
    "Para este algoritmo decidi utilizar un limpiador de consola que podemos ver en esta funcion"
   ]
  },
  {
   "cell_type": "code",
   "execution_count": 20,
   "metadata": {},
   "outputs": [],
   "source": [
    "import os\n",
    "\n",
    "def clearConsole():\n",
    "    command = 'clear'\n",
    "    if os.name in ('nt', 'dos'):\n",
    "        command = 'cls'\n",
    "    os.system(command)"
   ]
  },
  {
   "cell_type": "markdown",
   "metadata": {},
   "source": [
    "Una vez evaluado y analizado el resultado de este algoritmo podemos calcular un nuevo tiempo en base a las nuevas caracteristicas que ingrese el usuario en este caso deberian ingresar las 34 caracteristicas para poder calcular el tiempo que tomara el proceso."
   ]
  },
  {
   "cell_type": "code",
   "execution_count": 26,
   "metadata": {},
   "outputs": [
    {
     "name": "stdout",
     "output_type": "stream",
     "text": [
      "Tiempo esperado es de:  27.0  minutos.\n"
     ]
    }
   ],
   "source": [
    "if(r2 > 0.75 and error < 50.0):\n",
    "    input('El resultado de este entrenamiento se considera aceptable para predecir una nueva estimacion. \\n presione cualquier tecla para continuar: ')\n",
    "    clearConsole()\n",
    "    xnueva = []\n",
    "    nueva_prediccion = input(\"Ingrese las caracteristicas de la toma desde X1 hasta X34 separado por comas: \\n\").split(\",\")\n",
    "    for n in nueva_prediccion:\n",
    "        xnueva.append(n)\n",
    "    new_x = [float(i) for i in xnueva]\n",
    "    resultado = regresion.predict([new_x])\n",
    "    print(\"Tiempo esperado es de: \",float(resultado),\" minutos.\")\n",
    "else:\n",
    "    print('La prediccion no fue lo suficiente precisa vuelva a interntarlo')"
   ]
  }
 ],
 "metadata": {
  "kernelspec": {
   "display_name": "Python 3.9.12 ('base')",
   "language": "python",
   "name": "python3"
  },
  "language_info": {
   "codemirror_mode": {
    "name": "ipython",
    "version": 3
   },
   "file_extension": ".py",
   "mimetype": "text/x-python",
   "name": "python",
   "nbconvert_exporter": "python",
   "pygments_lexer": "ipython3",
   "version": "3.9.12"
  },
  "orig_nbformat": 4,
  "vscode": {
   "interpreter": {
    "hash": "5687c4ba954387de720d26b7d2bd9411595b3bcd505089a212352cf21bbeb4b7"
   }
  }
 },
 "nbformat": 4,
 "nbformat_minor": 2
}
